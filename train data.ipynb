{
 "cells": [
  {
   "cell_type": "markdown",
   "metadata": {},
   "source": [
    "# 1. Import necessary modules"
   ]
  },
  {
   "cell_type": "markdown",
   "metadata": {},
   "source": []
  },
  {
   "cell_type": "code",
   "execution_count": 27,
   "metadata": {},
   "outputs": [],
   "source": [
    "import zipfile\n",
    "import pandas as pd\n",
    "import matplotlib.pyplot as plt\n",
    "import seaborn as sns\n",
    "import numpy as np\n",
    "import warnings\n",
    "warnings.filterwarnings('ignore')\n",
    "from sklearn.preprocessing import StandardScaler, MinMaxScaler, OneHotEncoder, LabelEncoder\n",
    "from sklearn.ensemble import RandomForestClassifier\n",
    "import joblib"
   ]
  },
  {
   "cell_type": "markdown",
   "metadata": {},
   "source": [
    "# 2. Loading the Data:"
   ]
  },
  {
   "cell_type": "code",
   "execution_count": 28,
   "metadata": {},
   "outputs": [],
   "source": [
    "# # ZIP files\n",
    "# train_zip = 'GUIDE_Train.csv.zip'\n",
    "# test_zip = 'GUIDE_Test.csv.zip'\n",
    "\n",
    "# # Unziping the training file\n",
    "# with zipfile.ZipFile(train_zip, 'r') as zip_ref:\n",
    "#     zip_ref.extractall()\n",
    "\n",
    "# # Unziping the testing file\n",
    "# with zipfile.ZipFile(test_zip, 'r') as zip_ref:\n",
    "#     zip_ref.extractall()"
   ]
  },
  {
   "cell_type": "code",
   "execution_count": 29,
   "metadata": {},
   "outputs": [],
   "source": [
    "# # Now reading the unzipped CSV files\n",
    "# train_data = pd.read_csv('GUIDE_Train.csv')\n",
    "# test_data = pd.read_csv('GUIDE_Test.csv')"
   ]
  },
  {
   "cell_type": "markdown",
   "metadata": {},
   "source": [
    "# 3. Understanding the Data:\n",
    "## Dataset Overview:\n",
    "* GUIDE_Train.csv with 9.5M rows and 45 columns.\n",
    "* GUIDE_Test.csv with 4.1M rows and 46 columns.\n",
    "\n",
    "# Train Data"
   ]
  },
  {
   "cell_type": "code",
   "execution_count": 30,
   "metadata": {},
   "outputs": [],
   "source": [
    "def optimize_memory(df):\n",
    "    for col in df.select_dtypes(include=['int64', 'float64']).columns:\n",
    "        df[col] = pd.to_numeric(df[col], downcast='integer')\n",
    "    for col in df.select_dtypes(include=['object']).columns:\n",
    "        df[col] = df[col].astype('category')\n",
    "    return df"
   ]
  },
  {
   "cell_type": "markdown",
   "metadata": {},
   "source": []
  },
  {
   "cell_type": "code",
   "execution_count": 31,
   "metadata": {},
   "outputs": [],
   "source": [
    "chunks = []\n",
    "train_dataset = \"C:\\cybersecurity_pday4\\mycyber\\GUIDE_Train.csv\\GUIDE_Train.csv\"\n",
    "# Reading the dataset in chunks and process each chunk\n",
    "for chunk in pd.read_csv(train_dataset, chunksize=500000,low_memory=False):\n",
    "    chunk = optimize_memory(chunk)\n",
    "    chunks.append(chunk)\n",
    "\n",
    "# Concatenate all chunks into a single DataFrame\n",
    "train_data = pd.concat(chunks, ignore_index=True)\n",
    "\n",
    "# Clean up memory\n",
    "del chunks"
   ]
  },
  {
   "cell_type": "code",
   "execution_count": 32,
   "metadata": {},
   "outputs": [
    {
     "data": {
      "text/html": [
       "<div>\n",
       "<style scoped>\n",
       "    .dataframe tbody tr th:only-of-type {\n",
       "        vertical-align: middle;\n",
       "    }\n",
       "\n",
       "    .dataframe tbody tr th {\n",
       "        vertical-align: top;\n",
       "    }\n",
       "\n",
       "    .dataframe thead th {\n",
       "        text-align: right;\n",
       "    }\n",
       "</style>\n",
       "<table border=\"1\" class=\"dataframe\">\n",
       "  <thead>\n",
       "    <tr style=\"text-align: right;\">\n",
       "      <th></th>\n",
       "      <th>Id</th>\n",
       "      <th>OrgId</th>\n",
       "      <th>IncidentId</th>\n",
       "      <th>AlertId</th>\n",
       "      <th>Timestamp</th>\n",
       "      <th>DetectorId</th>\n",
       "      <th>AlertTitle</th>\n",
       "      <th>Category</th>\n",
       "      <th>MitreTechniques</th>\n",
       "      <th>IncidentGrade</th>\n",
       "      <th>...</th>\n",
       "      <th>ResourceType</th>\n",
       "      <th>Roles</th>\n",
       "      <th>OSFamily</th>\n",
       "      <th>OSVersion</th>\n",
       "      <th>AntispamDirection</th>\n",
       "      <th>SuspicionLevel</th>\n",
       "      <th>LastVerdict</th>\n",
       "      <th>CountryCode</th>\n",
       "      <th>State</th>\n",
       "      <th>City</th>\n",
       "    </tr>\n",
       "  </thead>\n",
       "  <tbody>\n",
       "    <tr>\n",
       "      <th>0</th>\n",
       "      <td>180388628218</td>\n",
       "      <td>0</td>\n",
       "      <td>612</td>\n",
       "      <td>123247</td>\n",
       "      <td>2024-06-04T06:05:15.000Z</td>\n",
       "      <td>7</td>\n",
       "      <td>6</td>\n",
       "      <td>InitialAccess</td>\n",
       "      <td>NaN</td>\n",
       "      <td>TruePositive</td>\n",
       "      <td>...</td>\n",
       "      <td>NaN</td>\n",
       "      <td>NaN</td>\n",
       "      <td>5</td>\n",
       "      <td>66</td>\n",
       "      <td>NaN</td>\n",
       "      <td>NaN</td>\n",
       "      <td>NaN</td>\n",
       "      <td>31</td>\n",
       "      <td>6</td>\n",
       "      <td>3</td>\n",
       "    </tr>\n",
       "    <tr>\n",
       "      <th>1</th>\n",
       "      <td>455266534868</td>\n",
       "      <td>88</td>\n",
       "      <td>326</td>\n",
       "      <td>210035</td>\n",
       "      <td>2024-06-14T03:01:25.000Z</td>\n",
       "      <td>58</td>\n",
       "      <td>43</td>\n",
       "      <td>Exfiltration</td>\n",
       "      <td>NaN</td>\n",
       "      <td>FalsePositive</td>\n",
       "      <td>...</td>\n",
       "      <td>NaN</td>\n",
       "      <td>NaN</td>\n",
       "      <td>5</td>\n",
       "      <td>66</td>\n",
       "      <td>NaN</td>\n",
       "      <td>NaN</td>\n",
       "      <td>NaN</td>\n",
       "      <td>242</td>\n",
       "      <td>1445</td>\n",
       "      <td>10630</td>\n",
       "    </tr>\n",
       "    <tr>\n",
       "      <th>2</th>\n",
       "      <td>1056561957389</td>\n",
       "      <td>809</td>\n",
       "      <td>58352</td>\n",
       "      <td>712507</td>\n",
       "      <td>2024-06-13T04:52:55.000Z</td>\n",
       "      <td>423</td>\n",
       "      <td>298</td>\n",
       "      <td>InitialAccess</td>\n",
       "      <td>T1189</td>\n",
       "      <td>FalsePositive</td>\n",
       "      <td>...</td>\n",
       "      <td>NaN</td>\n",
       "      <td>NaN</td>\n",
       "      <td>5</td>\n",
       "      <td>66</td>\n",
       "      <td>NaN</td>\n",
       "      <td>Suspicious</td>\n",
       "      <td>Suspicious</td>\n",
       "      <td>242</td>\n",
       "      <td>1445</td>\n",
       "      <td>10630</td>\n",
       "    </tr>\n",
       "    <tr>\n",
       "      <th>3</th>\n",
       "      <td>1279900258736</td>\n",
       "      <td>92</td>\n",
       "      <td>32992</td>\n",
       "      <td>774301</td>\n",
       "      <td>2024-06-10T16:39:36.000Z</td>\n",
       "      <td>2</td>\n",
       "      <td>2</td>\n",
       "      <td>CommandAndControl</td>\n",
       "      <td>NaN</td>\n",
       "      <td>BenignPositive</td>\n",
       "      <td>...</td>\n",
       "      <td>NaN</td>\n",
       "      <td>NaN</td>\n",
       "      <td>5</td>\n",
       "      <td>66</td>\n",
       "      <td>NaN</td>\n",
       "      <td>Suspicious</td>\n",
       "      <td>Suspicious</td>\n",
       "      <td>242</td>\n",
       "      <td>1445</td>\n",
       "      <td>10630</td>\n",
       "    </tr>\n",
       "    <tr>\n",
       "      <th>4</th>\n",
       "      <td>214748368522</td>\n",
       "      <td>148</td>\n",
       "      <td>4359</td>\n",
       "      <td>188041</td>\n",
       "      <td>2024-06-15T01:08:07.000Z</td>\n",
       "      <td>9</td>\n",
       "      <td>74</td>\n",
       "      <td>Execution</td>\n",
       "      <td>NaN</td>\n",
       "      <td>TruePositive</td>\n",
       "      <td>...</td>\n",
       "      <td>NaN</td>\n",
       "      <td>NaN</td>\n",
       "      <td>5</td>\n",
       "      <td>66</td>\n",
       "      <td>NaN</td>\n",
       "      <td>NaN</td>\n",
       "      <td>NaN</td>\n",
       "      <td>242</td>\n",
       "      <td>1445</td>\n",
       "      <td>10630</td>\n",
       "    </tr>\n",
       "  </tbody>\n",
       "</table>\n",
       "<p>5 rows × 45 columns</p>\n",
       "</div>"
      ],
      "text/plain": [
       "              Id  OrgId  IncidentId  AlertId                 Timestamp  \\\n",
       "0   180388628218      0         612   123247  2024-06-04T06:05:15.000Z   \n",
       "1   455266534868     88         326   210035  2024-06-14T03:01:25.000Z   \n",
       "2  1056561957389    809       58352   712507  2024-06-13T04:52:55.000Z   \n",
       "3  1279900258736     92       32992   774301  2024-06-10T16:39:36.000Z   \n",
       "4   214748368522    148        4359   188041  2024-06-15T01:08:07.000Z   \n",
       "\n",
       "   DetectorId  AlertTitle           Category MitreTechniques   IncidentGrade  \\\n",
       "0           7           6      InitialAccess             NaN    TruePositive   \n",
       "1          58          43       Exfiltration             NaN   FalsePositive   \n",
       "2         423         298      InitialAccess           T1189   FalsePositive   \n",
       "3           2           2  CommandAndControl             NaN  BenignPositive   \n",
       "4           9          74          Execution             NaN    TruePositive   \n",
       "\n",
       "   ... ResourceType Roles OSFamily OSVersion  AntispamDirection  \\\n",
       "0  ...          NaN   NaN        5        66                NaN   \n",
       "1  ...          NaN   NaN        5        66                NaN   \n",
       "2  ...          NaN   NaN        5        66                NaN   \n",
       "3  ...          NaN   NaN        5        66                NaN   \n",
       "4  ...          NaN   NaN        5        66                NaN   \n",
       "\n",
       "   SuspicionLevel  LastVerdict  CountryCode  State   City  \n",
       "0             NaN          NaN           31      6      3  \n",
       "1             NaN          NaN          242   1445  10630  \n",
       "2      Suspicious   Suspicious          242   1445  10630  \n",
       "3      Suspicious   Suspicious          242   1445  10630  \n",
       "4             NaN          NaN          242   1445  10630  \n",
       "\n",
       "[5 rows x 45 columns]"
      ]
     },
     "execution_count": 32,
     "metadata": {},
     "output_type": "execute_result"
    }
   ],
   "source": [
    "train_data.head()"
   ]
  },
  {
   "cell_type": "code",
   "execution_count": 33,
   "metadata": {},
   "outputs": [
    {
     "name": "stdout",
     "output_type": "stream",
     "text": [
      "(9516837, 45)\n"
     ]
    }
   ],
   "source": [
    "print(train_data.shape)"
   ]
  },
  {
   "cell_type": "code",
   "execution_count": 34,
   "metadata": {},
   "outputs": [
    {
     "data": {
      "text/plain": [
       "Index(['Id', 'OrgId', 'IncidentId', 'AlertId', 'Timestamp', 'DetectorId',\n",
       "       'AlertTitle', 'Category', 'MitreTechniques', 'IncidentGrade',\n",
       "       'ActionGrouped', 'ActionGranular', 'EntityType', 'EvidenceRole',\n",
       "       'DeviceId', 'Sha256', 'IpAddress', 'Url', 'AccountSid', 'AccountUpn',\n",
       "       'AccountObjectId', 'AccountName', 'DeviceName', 'NetworkMessageId',\n",
       "       'EmailClusterId', 'RegistryKey', 'RegistryValueName',\n",
       "       'RegistryValueData', 'ApplicationId', 'ApplicationName',\n",
       "       'OAuthApplicationId', 'ThreatFamily', 'FileName', 'FolderPath',\n",
       "       'ResourceIdName', 'ResourceType', 'Roles', 'OSFamily', 'OSVersion',\n",
       "       'AntispamDirection', 'SuspicionLevel', 'LastVerdict', 'CountryCode',\n",
       "       'State', 'City'],\n",
       "      dtype='object')"
      ]
     },
     "execution_count": 34,
     "metadata": {},
     "output_type": "execute_result"
    }
   ],
   "source": [
    "train_data.columns"
   ]
  },
  {
   "cell_type": "code",
   "execution_count": 35,
   "metadata": {},
   "outputs": [
    {
     "name": "stdout",
     "output_type": "stream",
     "text": [
      "<class 'pandas.core.frame.DataFrame'>\n",
      "RangeIndex: 9516837 entries, 0 to 9516836\n",
      "Data columns (total 45 columns):\n",
      " #   Column              Dtype   \n",
      "---  ------              -----   \n",
      " 0   Id                  int64   \n",
      " 1   OrgId               int16   \n",
      " 2   IncidentId          int32   \n",
      " 3   AlertId             int32   \n",
      " 4   Timestamp           object  \n",
      " 5   DetectorId          int16   \n",
      " 6   AlertTitle          int32   \n",
      " 7   Category            object  \n",
      " 8   MitreTechniques     object  \n",
      " 9   IncidentGrade       category\n",
      " 10  ActionGrouped       object  \n",
      " 11  ActionGranular      object  \n",
      " 12  EntityType          object  \n",
      " 13  EvidenceRole        category\n",
      " 14  DeviceId            int32   \n",
      " 15  Sha256              int32   \n",
      " 16  IpAddress           int32   \n",
      " 17  Url                 int32   \n",
      " 18  AccountSid          int32   \n",
      " 19  AccountUpn          int32   \n",
      " 20  AccountObjectId     int32   \n",
      " 21  AccountName         int32   \n",
      " 22  DeviceName          int32   \n",
      " 23  NetworkMessageId    int32   \n",
      " 24  EmailClusterId      float64 \n",
      " 25  RegistryKey         int16   \n",
      " 26  RegistryValueName   int16   \n",
      " 27  RegistryValueData   int16   \n",
      " 28  ApplicationId       int16   \n",
      " 29  ApplicationName     int16   \n",
      " 30  OAuthApplicationId  int16   \n",
      " 31  ThreatFamily        object  \n",
      " 32  FileName            int32   \n",
      " 33  FolderPath          int32   \n",
      " 34  ResourceIdName      int16   \n",
      " 35  ResourceType        object  \n",
      " 36  Roles               object  \n",
      " 37  OSFamily            int8    \n",
      " 38  OSVersion           int8    \n",
      " 39  AntispamDirection   object  \n",
      " 40  SuspicionLevel      category\n",
      " 41  LastVerdict         object  \n",
      " 42  CountryCode         int16   \n",
      " 43  State               int16   \n",
      " 44  City                int16   \n",
      "dtypes: category(3), float64(1), int16(12), int32(15), int64(1), int8(2), object(11)\n",
      "memory usage: 1.7+ GB\n"
     ]
    }
   ],
   "source": [
    "train_data.info()"
   ]
  },
  {
   "cell_type": "code",
   "execution_count": 36,
   "metadata": {},
   "outputs": [
    {
     "data": {
      "text/html": [
       "<div>\n",
       "<style scoped>\n",
       "    .dataframe tbody tr th:only-of-type {\n",
       "        vertical-align: middle;\n",
       "    }\n",
       "\n",
       "    .dataframe tbody tr th {\n",
       "        vertical-align: top;\n",
       "    }\n",
       "\n",
       "    .dataframe thead th {\n",
       "        text-align: right;\n",
       "    }\n",
       "</style>\n",
       "<table border=\"1\" class=\"dataframe\">\n",
       "  <thead>\n",
       "    <tr style=\"text-align: right;\">\n",
       "      <th></th>\n",
       "      <th>Id</th>\n",
       "      <th>OrgId</th>\n",
       "      <th>IncidentId</th>\n",
       "      <th>AlertId</th>\n",
       "      <th>DetectorId</th>\n",
       "      <th>AlertTitle</th>\n",
       "      <th>DeviceId</th>\n",
       "      <th>Sha256</th>\n",
       "      <th>IpAddress</th>\n",
       "      <th>Url</th>\n",
       "      <th>...</th>\n",
       "      <th>ApplicationName</th>\n",
       "      <th>OAuthApplicationId</th>\n",
       "      <th>FileName</th>\n",
       "      <th>FolderPath</th>\n",
       "      <th>ResourceIdName</th>\n",
       "      <th>OSFamily</th>\n",
       "      <th>OSVersion</th>\n",
       "      <th>CountryCode</th>\n",
       "      <th>State</th>\n",
       "      <th>City</th>\n",
       "    </tr>\n",
       "  </thead>\n",
       "  <tbody>\n",
       "    <tr>\n",
       "      <th>count</th>\n",
       "      <td>9.516837e+06</td>\n",
       "      <td>9.516837e+06</td>\n",
       "      <td>9.516837e+06</td>\n",
       "      <td>9.516837e+06</td>\n",
       "      <td>9.516837e+06</td>\n",
       "      <td>9.516837e+06</td>\n",
       "      <td>9.516837e+06</td>\n",
       "      <td>9.516837e+06</td>\n",
       "      <td>9.516837e+06</td>\n",
       "      <td>9.516837e+06</td>\n",
       "      <td>...</td>\n",
       "      <td>9.516837e+06</td>\n",
       "      <td>9.516837e+06</td>\n",
       "      <td>9.516837e+06</td>\n",
       "      <td>9.516837e+06</td>\n",
       "      <td>9.516837e+06</td>\n",
       "      <td>9.516837e+06</td>\n",
       "      <td>9.516837e+06</td>\n",
       "      <td>9.516837e+06</td>\n",
       "      <td>9.516837e+06</td>\n",
       "      <td>9.516837e+06</td>\n",
       "    </tr>\n",
       "    <tr>\n",
       "      <th>mean</th>\n",
       "      <td>8.425494e+11</td>\n",
       "      <td>1.815800e+02</td>\n",
       "      <td>7.066349e+04</td>\n",
       "      <td>4.065188e+05</td>\n",
       "      <td>1.106724e+02</td>\n",
       "      <td>2.947315e+03</td>\n",
       "      <td>9.566476e+04</td>\n",
       "      <td>1.287191e+05</td>\n",
       "      <td>2.857506e+05</td>\n",
       "      <td>1.503317e+05</td>\n",
       "      <td>...</td>\n",
       "      <td>3.342790e+03</td>\n",
       "      <td>8.807955e+02</td>\n",
       "      <td>2.622621e+05</td>\n",
       "      <td>1.076172e+05</td>\n",
       "      <td>3.583477e+03</td>\n",
       "      <td>4.898537e+00</td>\n",
       "      <td>6.465558e+01</td>\n",
       "      <td>2.236742e+02</td>\n",
       "      <td>1.351488e+03</td>\n",
       "      <td>9.936183e+03</td>\n",
       "    </tr>\n",
       "    <tr>\n",
       "      <th>std</th>\n",
       "      <td>4.962499e+11</td>\n",
       "      <td>3.867784e+02</td>\n",
       "      <td>1.208369e+05</td>\n",
       "      <td>4.592827e+05</td>\n",
       "      <td>4.351038e+02</td>\n",
       "      <td>1.146150e+04</td>\n",
       "      <td>1.635288e+04</td>\n",
       "      <td>3.399208e+04</td>\n",
       "      <td>1.412240e+05</td>\n",
       "      <td>3.750795e+04</td>\n",
       "      <td>...</td>\n",
       "      <td>5.103381e+02</td>\n",
       "      <td>1.291083e+01</td>\n",
       "      <td>8.152956e+04</td>\n",
       "      <td>3.220835e+04</td>\n",
       "      <td>9.020262e+01</td>\n",
       "      <td>7.035099e-01</td>\n",
       "      <td>9.314929e+00</td>\n",
       "      <td>6.279729e+01</td>\n",
       "      <td>3.509808e+02</td>\n",
       "      <td>2.606812e+03</td>\n",
       "    </tr>\n",
       "    <tr>\n",
       "      <th>min</th>\n",
       "      <td>0.000000e+00</td>\n",
       "      <td>0.000000e+00</td>\n",
       "      <td>0.000000e+00</td>\n",
       "      <td>0.000000e+00</td>\n",
       "      <td>0.000000e+00</td>\n",
       "      <td>0.000000e+00</td>\n",
       "      <td>0.000000e+00</td>\n",
       "      <td>0.000000e+00</td>\n",
       "      <td>0.000000e+00</td>\n",
       "      <td>0.000000e+00</td>\n",
       "      <td>...</td>\n",
       "      <td>0.000000e+00</td>\n",
       "      <td>0.000000e+00</td>\n",
       "      <td>0.000000e+00</td>\n",
       "      <td>0.000000e+00</td>\n",
       "      <td>0.000000e+00</td>\n",
       "      <td>0.000000e+00</td>\n",
       "      <td>0.000000e+00</td>\n",
       "      <td>0.000000e+00</td>\n",
       "      <td>0.000000e+00</td>\n",
       "      <td>0.000000e+00</td>\n",
       "    </tr>\n",
       "    <tr>\n",
       "      <th>25%</th>\n",
       "      <td>4.123169e+11</td>\n",
       "      <td>1.000000e+01</td>\n",
       "      <td>5.040000e+02</td>\n",
       "      <td>2.324200e+04</td>\n",
       "      <td>2.000000e+00</td>\n",
       "      <td>2.000000e+00</td>\n",
       "      <td>9.879900e+04</td>\n",
       "      <td>1.382680e+05</td>\n",
       "      <td>3.606060e+05</td>\n",
       "      <td>1.603960e+05</td>\n",
       "      <td>...</td>\n",
       "      <td>3.421000e+03</td>\n",
       "      <td>8.810000e+02</td>\n",
       "      <td>2.895730e+05</td>\n",
       "      <td>1.176680e+05</td>\n",
       "      <td>3.586000e+03</td>\n",
       "      <td>5.000000e+00</td>\n",
       "      <td>6.600000e+01</td>\n",
       "      <td>2.420000e+02</td>\n",
       "      <td>1.445000e+03</td>\n",
       "      <td>1.063000e+04</td>\n",
       "    </tr>\n",
       "    <tr>\n",
       "      <th>50%</th>\n",
       "      <td>8.418136e+11</td>\n",
       "      <td>4.500000e+01</td>\n",
       "      <td>1.033600e+04</td>\n",
       "      <td>2.166520e+05</td>\n",
       "      <td>9.000000e+00</td>\n",
       "      <td>1.100000e+01</td>\n",
       "      <td>9.879900e+04</td>\n",
       "      <td>1.382680e+05</td>\n",
       "      <td>3.606060e+05</td>\n",
       "      <td>1.603960e+05</td>\n",
       "      <td>...</td>\n",
       "      <td>3.421000e+03</td>\n",
       "      <td>8.810000e+02</td>\n",
       "      <td>2.895730e+05</td>\n",
       "      <td>1.176680e+05</td>\n",
       "      <td>3.586000e+03</td>\n",
       "      <td>5.000000e+00</td>\n",
       "      <td>6.600000e+01</td>\n",
       "      <td>2.420000e+02</td>\n",
       "      <td>1.445000e+03</td>\n",
       "      <td>1.063000e+04</td>\n",
       "    </tr>\n",
       "    <tr>\n",
       "      <th>75%</th>\n",
       "      <td>1.271310e+12</td>\n",
       "      <td>1.710000e+02</td>\n",
       "      <td>8.432900e+04</td>\n",
       "      <td>6.715770e+05</td>\n",
       "      <td>4.500000e+01</td>\n",
       "      <td>1.800000e+02</td>\n",
       "      <td>9.879900e+04</td>\n",
       "      <td>1.382680e+05</td>\n",
       "      <td>3.606060e+05</td>\n",
       "      <td>1.603960e+05</td>\n",
       "      <td>...</td>\n",
       "      <td>3.421000e+03</td>\n",
       "      <td>8.810000e+02</td>\n",
       "      <td>2.895730e+05</td>\n",
       "      <td>1.176680e+05</td>\n",
       "      <td>3.586000e+03</td>\n",
       "      <td>5.000000e+00</td>\n",
       "      <td>6.600000e+01</td>\n",
       "      <td>2.420000e+02</td>\n",
       "      <td>1.445000e+03</td>\n",
       "      <td>1.063000e+04</td>\n",
       "    </tr>\n",
       "    <tr>\n",
       "      <th>max</th>\n",
       "      <td>1.709397e+12</td>\n",
       "      <td>6.147000e+03</td>\n",
       "      <td>5.997060e+05</td>\n",
       "      <td>1.721456e+06</td>\n",
       "      <td>9.522000e+03</td>\n",
       "      <td>1.131740e+05</td>\n",
       "      <td>9.879900e+04</td>\n",
       "      <td>1.382680e+05</td>\n",
       "      <td>3.606060e+05</td>\n",
       "      <td>1.603960e+05</td>\n",
       "      <td>...</td>\n",
       "      <td>3.421000e+03</td>\n",
       "      <td>8.810000e+02</td>\n",
       "      <td>2.895730e+05</td>\n",
       "      <td>1.176680e+05</td>\n",
       "      <td>3.586000e+03</td>\n",
       "      <td>5.000000e+00</td>\n",
       "      <td>6.600000e+01</td>\n",
       "      <td>2.420000e+02</td>\n",
       "      <td>1.445000e+03</td>\n",
       "      <td>1.063000e+04</td>\n",
       "    </tr>\n",
       "  </tbody>\n",
       "</table>\n",
       "<p>8 rows × 31 columns</p>\n",
       "</div>"
      ],
      "text/plain": [
       "                 Id         OrgId    IncidentId       AlertId    DetectorId  \\\n",
       "count  9.516837e+06  9.516837e+06  9.516837e+06  9.516837e+06  9.516837e+06   \n",
       "mean   8.425494e+11  1.815800e+02  7.066349e+04  4.065188e+05  1.106724e+02   \n",
       "std    4.962499e+11  3.867784e+02  1.208369e+05  4.592827e+05  4.351038e+02   \n",
       "min    0.000000e+00  0.000000e+00  0.000000e+00  0.000000e+00  0.000000e+00   \n",
       "25%    4.123169e+11  1.000000e+01  5.040000e+02  2.324200e+04  2.000000e+00   \n",
       "50%    8.418136e+11  4.500000e+01  1.033600e+04  2.166520e+05  9.000000e+00   \n",
       "75%    1.271310e+12  1.710000e+02  8.432900e+04  6.715770e+05  4.500000e+01   \n",
       "max    1.709397e+12  6.147000e+03  5.997060e+05  1.721456e+06  9.522000e+03   \n",
       "\n",
       "         AlertTitle      DeviceId        Sha256     IpAddress           Url  \\\n",
       "count  9.516837e+06  9.516837e+06  9.516837e+06  9.516837e+06  9.516837e+06   \n",
       "mean   2.947315e+03  9.566476e+04  1.287191e+05  2.857506e+05  1.503317e+05   \n",
       "std    1.146150e+04  1.635288e+04  3.399208e+04  1.412240e+05  3.750795e+04   \n",
       "min    0.000000e+00  0.000000e+00  0.000000e+00  0.000000e+00  0.000000e+00   \n",
       "25%    2.000000e+00  9.879900e+04  1.382680e+05  3.606060e+05  1.603960e+05   \n",
       "50%    1.100000e+01  9.879900e+04  1.382680e+05  3.606060e+05  1.603960e+05   \n",
       "75%    1.800000e+02  9.879900e+04  1.382680e+05  3.606060e+05  1.603960e+05   \n",
       "max    1.131740e+05  9.879900e+04  1.382680e+05  3.606060e+05  1.603960e+05   \n",
       "\n",
       "       ...  ApplicationName  OAuthApplicationId      FileName    FolderPath  \\\n",
       "count  ...     9.516837e+06        9.516837e+06  9.516837e+06  9.516837e+06   \n",
       "mean   ...     3.342790e+03        8.807955e+02  2.622621e+05  1.076172e+05   \n",
       "std    ...     5.103381e+02        1.291083e+01  8.152956e+04  3.220835e+04   \n",
       "min    ...     0.000000e+00        0.000000e+00  0.000000e+00  0.000000e+00   \n",
       "25%    ...     3.421000e+03        8.810000e+02  2.895730e+05  1.176680e+05   \n",
       "50%    ...     3.421000e+03        8.810000e+02  2.895730e+05  1.176680e+05   \n",
       "75%    ...     3.421000e+03        8.810000e+02  2.895730e+05  1.176680e+05   \n",
       "max    ...     3.421000e+03        8.810000e+02  2.895730e+05  1.176680e+05   \n",
       "\n",
       "       ResourceIdName      OSFamily     OSVersion   CountryCode         State  \\\n",
       "count    9.516837e+06  9.516837e+06  9.516837e+06  9.516837e+06  9.516837e+06   \n",
       "mean     3.583477e+03  4.898537e+00  6.465558e+01  2.236742e+02  1.351488e+03   \n",
       "std      9.020262e+01  7.035099e-01  9.314929e+00  6.279729e+01  3.509808e+02   \n",
       "min      0.000000e+00  0.000000e+00  0.000000e+00  0.000000e+00  0.000000e+00   \n",
       "25%      3.586000e+03  5.000000e+00  6.600000e+01  2.420000e+02  1.445000e+03   \n",
       "50%      3.586000e+03  5.000000e+00  6.600000e+01  2.420000e+02  1.445000e+03   \n",
       "75%      3.586000e+03  5.000000e+00  6.600000e+01  2.420000e+02  1.445000e+03   \n",
       "max      3.586000e+03  5.000000e+00  6.600000e+01  2.420000e+02  1.445000e+03   \n",
       "\n",
       "               City  \n",
       "count  9.516837e+06  \n",
       "mean   9.936183e+03  \n",
       "std    2.606812e+03  \n",
       "min    0.000000e+00  \n",
       "25%    1.063000e+04  \n",
       "50%    1.063000e+04  \n",
       "75%    1.063000e+04  \n",
       "max    1.063000e+04  \n",
       "\n",
       "[8 rows x 31 columns]"
      ]
     },
     "execution_count": 36,
     "metadata": {},
     "output_type": "execute_result"
    }
   ],
   "source": [
    "train_data.describe()"
   ]
  },
  {
   "cell_type": "markdown",
   "metadata": {},
   "source": [
    "## Handling Missing Data"
   ]
  },
  {
   "cell_type": "code",
   "execution_count": 37,
   "metadata": {},
   "outputs": [
    {
     "data": {
      "text/plain": [
       "Id                          0\n",
       "OrgId                       0\n",
       "IncidentId                  0\n",
       "AlertId                     0\n",
       "Timestamp                   0\n",
       "DetectorId                  0\n",
       "AlertTitle                  0\n",
       "Category                    0\n",
       "MitreTechniques       5468386\n",
       "IncidentGrade           51340\n",
       "ActionGrouped         9460773\n",
       "ActionGranular        9460773\n",
       "EntityType                  0\n",
       "EvidenceRole                0\n",
       "DeviceId                    0\n",
       "Sha256                      0\n",
       "IpAddress                   0\n",
       "Url                         0\n",
       "AccountSid                  0\n",
       "AccountUpn                  0\n",
       "AccountObjectId             0\n",
       "AccountName                 0\n",
       "DeviceName                  0\n",
       "NetworkMessageId            0\n",
       "EmailClusterId        9420025\n",
       "RegistryKey                 0\n",
       "RegistryValueName           0\n",
       "RegistryValueData           0\n",
       "ApplicationId               0\n",
       "ApplicationName             0\n",
       "OAuthApplicationId          0\n",
       "ThreatFamily          9441956\n",
       "FileName                    0\n",
       "FolderPath                  0\n",
       "ResourceIdName              0\n",
       "ResourceType          9509762\n",
       "Roles                 9298686\n",
       "OSFamily                    0\n",
       "OSVersion                   0\n",
       "AntispamDirection     9339535\n",
       "SuspicionLevel        8072708\n",
       "LastVerdict           7282572\n",
       "CountryCode                 0\n",
       "State                       0\n",
       "City                        0\n",
       "dtype: int64"
      ]
     },
     "execution_count": 37,
     "metadata": {},
     "output_type": "execute_result"
    }
   ],
   "source": [
    "train_data.isnull().sum()"
   ]
  },
  {
   "cell_type": "code",
   "execution_count": 38,
   "metadata": {},
   "outputs": [
    {
     "name": "stdout",
     "output_type": "stream",
     "text": [
      "Columns dropped due to >50% missing values: ['MitreTechniques', 'ActionGrouped', 'ActionGranular', 'EmailClusterId', 'ThreatFamily', 'ResourceType', 'Roles', 'AntispamDirection', 'SuspicionLevel', 'LastVerdict']\n"
     ]
    }
   ],
   "source": [
    "# Droping Columns with More Than 50% Missing Values:\n",
    "missing_percentage = train_data.isnull().mean() * 100\n",
    "columns_to_drop = missing_percentage[missing_percentage > 50].index\n",
    "train_data.drop(columns=columns_to_drop, axis=1, inplace=True)\n",
    "print(f\"Columns dropped due to >50% missing values: {columns_to_drop.tolist()}\")"
   ]
  },
  {
   "cell_type": "markdown",
   "metadata": {},
   "source": [
    "#### 'IncidentGrade', Since this is our target column, we cannot have missing values here.\n",
    "#### The best option is to drop rows where the IncidentGrade is missing, as imputing the target variable might lead to misleading results."
   ]
  },
  {
   "cell_type": "code",
   "execution_count": 39,
   "metadata": {},
   "outputs": [],
   "source": [
    "# Droping rows where 'IncidentGrade' is missing\n",
    "train_data = train_data.dropna(subset=['IncidentGrade'])"
   ]
  },
  {
   "cell_type": "code",
   "execution_count": 40,
   "metadata": {},
   "outputs": [
    {
     "data": {
      "text/plain": [
       "Id                    0\n",
       "OrgId                 0\n",
       "IncidentId            0\n",
       "AlertId               0\n",
       "Timestamp             0\n",
       "DetectorId            0\n",
       "AlertTitle            0\n",
       "Category              0\n",
       "IncidentGrade         0\n",
       "EntityType            0\n",
       "EvidenceRole          0\n",
       "DeviceId              0\n",
       "Sha256                0\n",
       "IpAddress             0\n",
       "Url                   0\n",
       "AccountSid            0\n",
       "AccountUpn            0\n",
       "AccountObjectId       0\n",
       "AccountName           0\n",
       "DeviceName            0\n",
       "NetworkMessageId      0\n",
       "RegistryKey           0\n",
       "RegistryValueName     0\n",
       "RegistryValueData     0\n",
       "ApplicationId         0\n",
       "ApplicationName       0\n",
       "OAuthApplicationId    0\n",
       "FileName              0\n",
       "FolderPath            0\n",
       "ResourceIdName        0\n",
       "OSFamily              0\n",
       "OSVersion             0\n",
       "CountryCode           0\n",
       "State                 0\n",
       "City                  0\n",
       "dtype: int64"
      ]
     },
     "execution_count": 40,
     "metadata": {},
     "output_type": "execute_result"
    }
   ],
   "source": [
    "train_data.isnull().sum()"
   ]
  },
  {
   "cell_type": "code",
   "execution_count": 41,
   "metadata": {},
   "outputs": [
    {
     "data": {
      "text/plain": [
       "np.int64(542692)"
      ]
     },
     "execution_count": 41,
     "metadata": {},
     "output_type": "execute_result"
    }
   ],
   "source": [
    "train_data.duplicated().sum()"
   ]
  },
  {
   "cell_type": "code",
   "execution_count": 42,
   "metadata": {},
   "outputs": [
    {
     "name": "stdout",
     "output_type": "stream",
     "text": [
      "Number of rows after removing duplicates: 8922805\n"
     ]
    }
   ],
   "source": [
    "# Droping duplicate rows from the dataset\n",
    "train_data = train_data.drop_duplicates()\n",
    "\n",
    "print(f\"Number of rows after removing duplicates: {train_data.shape[0]}\")"
   ]
  },
  {
   "cell_type": "code",
   "execution_count": 43,
   "metadata": {},
   "outputs": [
    {
     "name": "stdout",
     "output_type": "stream",
     "text": [
      "Target variable distribution:\n"
     ]
    },
    {
     "data": {
      "text/plain": [
       "IncidentGrade\n",
       "BenignPositive    3827800\n",
       "TruePositive      3140126\n",
       "FalsePositive     1954879\n",
       "Name: count, dtype: int64"
      ]
     },
     "execution_count": 43,
     "metadata": {},
     "output_type": "execute_result"
    }
   ],
   "source": [
    "# Target variable distribution\n",
    "print(\"Target variable distribution:\")\n",
    "train_data['IncidentGrade'].value_counts()"
   ]
  },
  {
   "cell_type": "code",
   "execution_count": 44,
   "metadata": {},
   "outputs": [
    {
     "data": {
      "image/png": "[encoded data removed]",
      "text/plain": [
       "<Figure size 640x480 with 1 Axes>"
      ]
     },
     "metadata": {},
     "output_type": "display_data"
    }
   ],
   "source": [
    "sns.countplot(data=train_data, x='IncidentGrade', order=train_data['IncidentGrade'].value_counts().index)\n",
    "plt.title('Target Variable Distribution: IncidentGrade')\n",
    "plt.xlabel('IncidentGrade')\n",
    "plt.ylabel('Count')\n",
    "plt.show()"
   ]
  },
  {
   "cell_type": "markdown",
   "metadata": {},
   "source": [
    "## Feature Exploration and Engineering"
   ]
  },
  {
   "cell_type": "code",
   "execution_count": 45,
   "metadata": {},
   "outputs": [],
   "source": [
    "train_data['Timestamp'] = pd.to_datetime(train_data['Timestamp'])\n",
    "train_data['Year'] = train_data['Timestamp'].dt.year\n",
    "train_data['Month'] = train_data['Timestamp'].dt.month\n",
    "train_data['Day'] = train_data['Timestamp'].dt.day\n",
    "train_data['Hour'] = train_data['Timestamp'].dt.hour\n",
    "\n",
    "train_data.drop(columns='Timestamp',inplace=True)"
   ]
  },
  {
   "cell_type": "code",
   "execution_count": null,
   "metadata": {},
   "outputs": [],
   "source": [
    "train_data.columns"
   ]
  }
 ],
 "metadata": {
  "kernelspec": {
   "display_name": "mycyber",
   "language": "python",
   "name": "python3"
  },
  "language_info": {
   "codemirror_mode": {
    "name": "ipython",
    "version": 3
   },
   "file_extension": ".py",
   "mimetype": "text/x-python",
   "name": "python",
   "nbconvert_exporter": "python",
   "pygments_lexer": "ipython3",
   "version": "3.12.6"
  }
 },
 "nbformat": 4,
 "nbformat_minor": 2
}
